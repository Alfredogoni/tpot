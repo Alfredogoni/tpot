{
 "cells": [
  {
   "cell_type": "code",
   "execution_count": 1,
   "metadata": {},
   "outputs": [
    {
     "name": "stdout",
     "output_type": "stream",
     "text": [
      "gene_id    ENSG00000000419.8  ENSG00000000938.8  ENSG00000000971.11  \\\n",
      "2014-2194          -1.165569           0.513416            0.395402   \n",
      "2014-2195          -1.051649           0.604444            0.876143   \n",
      "2014-2196          -2.156356          -0.153699            0.267843   \n",
      "2014-2197          -2.212747           0.447874            0.627974   \n",
      "2014-2198          -0.468046          -0.172765            0.920823   \n",
      "\n",
      "gene_id    ENSG00000001036.9  ENSG00000001084.6  ENSG00000001167.10  \\\n",
      "2014-2194          -1.353226           1.637868            1.009720   \n",
      "2014-2195          -0.355030           1.895917            1.022767   \n",
      "2014-2196          -1.632926           1.379626            1.067571   \n",
      "2014-2197          -1.136629           0.549276            0.267843   \n",
      "2014-2198          -1.537285           1.093152            1.001117   \n",
      "\n",
      "gene_id    ENSG00000001617.7  ENSG00000001626.10  ENSG00000001630.11  \\\n",
      "2014-2194           0.334377           -0.767900           -0.742876   \n",
      "2014-2195          -0.035038           -0.685936           -0.750591   \n",
      "2014-2196           0.132726           -1.105020           -1.403541   \n",
      "2014-2197          -0.615382           -1.673632           -0.612250   \n",
      "2014-2198           1.002188           -0.779275           -0.222382   \n",
      "\n",
      "gene_id    ENSG00000002016.12  ...  ENSG00000270408.1  ENSG00000271625.1  \\\n",
      "2014-2194            0.538746  ...           1.829747          -1.002188   \n",
      "2014-2195            0.231701  ...           1.169416          -1.321498   \n",
      "2014-2196            1.776993  ...           0.985183          -1.002188   \n",
      "2014-2197            0.301622  ...           1.928200          -0.754035   \n",
      "2014-2198            1.225208  ...           0.689223           1.022767   \n",
      "\n",
      "gene_id    ENSG00000271885.1  ENSG00000272047.1  ENSG00000272658.1  \\\n",
      "2014-2194          -0.346751          -1.816079           1.007562   \n",
      "2014-2195          -0.508980          -1.100254           1.461449   \n",
      "2014-2196          -0.181331          -1.783320           0.719148   \n",
      "2014-2197          -0.080527          -0.642261           0.846067   \n",
      "2014-2198          -0.555321          -0.847924           0.176058   \n",
      "\n",
      "gene_id    ENSG00000273079.1  CMC  LIBD_szControl  sex  ethnicity  \n",
      "2014-2194           0.479659  0.0             0.0  0.0        0.0  \n",
      "2014-2195           0.304339  0.0             0.0  0.0        0.0  \n",
      "2014-2196           0.035038  0.0             0.0  1.0        0.0  \n",
      "2014-2197           1.770736  0.0             0.0  0.0        0.0  \n",
      "2014-2198           0.920823  0.0             0.0  1.0        0.0  \n",
      "\n",
      "[5 rows x 4956 columns]\n"
     ]
    }
   ],
   "source": [
    "import pandas as pd\n",
    "import numpy as np\n",
    "import sys\n",
    "from tpot import TPOTClassifier\n",
    "from sklearn.model_selection import train_test_split, cross_val_score\n",
    "from tpot.config import classifier_config_dict\n",
    "\n",
    "path = 'TPOT_COV'\n",
    "tpot_data = pd.read_csv(path + '/annotDataKeggCov.txt', sep='\\t', index_col=0).T\n",
    "\n",
    "Xdata = tpot_data.drop('diagnosis', axis=1)\n",
    "Ydata = tpot_data['diagnosis']\n",
    "del tpot_data\n",
    "\n",
    "print(Xdata.head())"
   ]
  },
  {
   "cell_type": "code",
   "execution_count": 2,
   "metadata": {},
   "outputs": [
    {
     "name": "stdout",
     "output_type": "stream",
     "text": [
      "Index(['ENSG00000000419.8', 'ENSG00000000938.8', 'ENSG00000000971.11',\n",
      "       'ENSG00000001036.9', 'ENSG00000001084.6', 'ENSG00000001167.10',\n",
      "       'ENSG00000001617.7', 'ENSG00000001626.10', 'ENSG00000001630.11',\n",
      "       'ENSG00000002016.12',\n",
      "       ...\n",
      "       'ENSG00000270408.1', 'ENSG00000271625.1', 'ENSG00000271885.1',\n",
      "       'ENSG00000272047.1', 'ENSG00000272658.1', 'ENSG00000273079.1', 'CMC',\n",
      "       'LIBD_szControl', 'sex', 'ethnicity'],\n",
      "      dtype='object', name='gene_id', length=4956)\n"
     ]
    }
   ],
   "source": [
    "print(Xdata.columns)"
   ]
  },
  {
   "cell_type": "code",
   "execution_count": 3,
   "metadata": {},
   "outputs": [
    {
     "name": "stdout",
     "output_type": "stream",
     "text": [
      "2 operators have been imported by TPOT.\n"
     ]
    },
    {
     "data": {
      "application/vnd.jupyter.widget-view+json": {
       "model_id": "6460bf079a15416b8083ba05e3b76adb",
       "version_major": 2,
       "version_minor": 0
      },
      "text/plain": [
       "A Jupyter Widget"
      ]
     },
     "metadata": {},
     "output_type": "display_data"
    },
    {
     "name": "stdout",
     "output_type": "stream",
     "text": [
      "Generation 1 - Current Pareto front scores:\n",
      "-2\t0.6155040838214669\tMetaEstimator(FeatureSetSelector(input_matrix, FeatureSetSelector__res_cols=['CMC', 'LIBD_szControl', 'sex', 'ethnicity'], FeatureSetSelector__sel_subset=153, FeatureSetSelector__subset_list=TPOT_COV/c2.cp.kegg.v7.0.ens.red.csv), MetaEstimator__A=['CMC', 'ethnicity'], MetaEstimator__C=['LIBD_szControl', 'sex'], MetaEstimator__GradientBoostingRegressor__alpha=0.99, MetaEstimator__GradientBoostingRegressor__learning_rate=0.001, MetaEstimator__GradientBoostingRegressor__loss=ls, MetaEstimator__GradientBoostingRegressor__max_depth=7, MetaEstimator__GradientBoostingRegressor__max_features=0.05, MetaEstimator__GradientBoostingRegressor__min_samples_leaf=7, MetaEstimator__GradientBoostingRegressor__min_samples_split=3, MetaEstimator__GradientBoostingRegressor__n_estimators=100, MetaEstimator__GradientBoostingRegressor__subsample=0.1)\n",
      "\n",
      "Generation 2 - Current Pareto front scores:\n",
      "-2\t0.65251835657124\tMetaEstimator(FeatureSetSelector(input_matrix, FeatureSetSelector__res_cols=['CMC', 'LIBD_szControl', 'sex', 'ethnicity'], FeatureSetSelector__sel_subset=126, FeatureSetSelector__subset_list=TPOT_COV/c2.cp.kegg.v7.0.ens.red.csv), MetaEstimator__A=['CMC', 'ethnicity'], MetaEstimator__C=['LIBD_szControl', 'sex'], MetaEstimator__GradientBoostingRegressor__alpha=0.8, MetaEstimator__GradientBoostingRegressor__learning_rate=0.01, MetaEstimator__GradientBoostingRegressor__loss=ls, MetaEstimator__GradientBoostingRegressor__max_depth=9, MetaEstimator__GradientBoostingRegressor__max_features=0.9500000000000001, MetaEstimator__GradientBoostingRegressor__min_samples_leaf=20, MetaEstimator__GradientBoostingRegressor__min_samples_split=2, MetaEstimator__GradientBoostingRegressor__n_estimators=100, MetaEstimator__GradientBoostingRegressor__subsample=0.55)\n",
      "\n",
      "Generation 3 - Current Pareto front scores:\n",
      "-2\t0.6794908285895003\tMetaEstimator(FeatureSetSelector(input_matrix, FeatureSetSelector__res_cols=['CMC', 'LIBD_szControl', 'sex', 'ethnicity'], FeatureSetSelector__sel_subset=126, FeatureSetSelector__subset_list=TPOT_COV/c2.cp.kegg.v7.0.ens.red.csv), MetaEstimator__A=['CMC', 'ethnicity'], MetaEstimator__C=['LIBD_szControl', 'sex'], MetaEstimator__GradientBoostingRegressor__alpha=0.8, MetaEstimator__GradientBoostingRegressor__learning_rate=0.1, MetaEstimator__GradientBoostingRegressor__loss=ls, MetaEstimator__GradientBoostingRegressor__max_depth=9, MetaEstimator__GradientBoostingRegressor__max_features=0.9500000000000001, MetaEstimator__GradientBoostingRegressor__min_samples_leaf=10, MetaEstimator__GradientBoostingRegressor__min_samples_split=2, MetaEstimator__GradientBoostingRegressor__n_estimators=100, MetaEstimator__GradientBoostingRegressor__subsample=0.55)\n",
      "\n",
      "Generation 4 - Current Pareto front scores:\n",
      "-2\t0.6835677749360614\tMetaEstimator(FeatureSetSelector(input_matrix, FeatureSetSelector__res_cols=['CMC', 'LIBD_szControl', 'sex', 'ethnicity'], FeatureSetSelector__sel_subset=169, FeatureSetSelector__subset_list=TPOT_COV/c2.cp.kegg.v7.0.ens.red.csv), MetaEstimator__A=['CMC', 'ethnicity'], MetaEstimator__C=['LIBD_szControl', 'sex'], MetaEstimator__GradientBoostingRegressor__alpha=0.8, MetaEstimator__GradientBoostingRegressor__learning_rate=0.1, MetaEstimator__GradientBoostingRegressor__loss=lad, MetaEstimator__GradientBoostingRegressor__max_depth=5, MetaEstimator__GradientBoostingRegressor__max_features=0.55, MetaEstimator__GradientBoostingRegressor__min_samples_leaf=6, MetaEstimator__GradientBoostingRegressor__min_samples_split=20, MetaEstimator__GradientBoostingRegressor__n_estimators=100, MetaEstimator__GradientBoostingRegressor__subsample=0.7500000000000001)\n",
      "\n",
      "Generation 5 - Current Pareto front scores:\n",
      "-2\t0.6835677749360614\tMetaEstimator(FeatureSetSelector(input_matrix, FeatureSetSelector__res_cols=['CMC', 'LIBD_szControl', 'sex', 'ethnicity'], FeatureSetSelector__sel_subset=169, FeatureSetSelector__subset_list=TPOT_COV/c2.cp.kegg.v7.0.ens.red.csv), MetaEstimator__A=['CMC', 'ethnicity'], MetaEstimator__C=['LIBD_szControl', 'sex'], MetaEstimator__GradientBoostingRegressor__alpha=0.8, MetaEstimator__GradientBoostingRegressor__learning_rate=0.1, MetaEstimator__GradientBoostingRegressor__loss=lad, MetaEstimator__GradientBoostingRegressor__max_depth=5, MetaEstimator__GradientBoostingRegressor__max_features=0.55, MetaEstimator__GradientBoostingRegressor__min_samples_leaf=6, MetaEstimator__GradientBoostingRegressor__min_samples_split=20, MetaEstimator__GradientBoostingRegressor__n_estimators=100, MetaEstimator__GradientBoostingRegressor__subsample=0.7500000000000001)\n",
      "\n",
      "\r"
     ]
    },
    {
     "data": {
      "text/plain": [
       "TPOTClassifier(config_dict={'tpot.builtins.FeatureSetSelector': {'res_cols': [['CMC',\n",
       "                                                                               'LIBD_szControl',\n",
       "                                                                               'sex',\n",
       "                                                                               'ethnicity']],\n",
       "                                                                 'sel_subset': range(0, 186),\n",
       "                                                                 'subset_list': ['TPOT_COV/c2.cp.kegg.v7.0.ens.red.csv']},\n",
       "                            'tpot.builtins.MetaEstimator': {'A': [['CMC',\n",
       "                                                                   'ethnicity']],\n",
       "                                                            'C': [['LIBD_szControl',\n",
       "                                                                   'sex']],\n",
       "                                                            'estimator': {'sklearn.ensemble.GradientBoostingRegressor': {'...\n",
       "               crossover_rate=0.1, cv=5, disable_update_check=False,\n",
       "               early_stop=None, generations=5, max_eval_time_mins=5,\n",
       "               max_time_mins=None, memory=None, mutation_rate=0.9, n_jobs=1,\n",
       "               offspring_size=None, periodic_checkpoint_folder=None,\n",
       "               population_size=25, random_state=42, scoring='balanced_accuracy',\n",
       "               subsample=1.0, template='FeatureSetSelector-Classifier',\n",
       "               use_dask=False, verbosity=3, warm_start=False)"
      ]
     },
     "execution_count": 3,
     "metadata": {},
     "output_type": "execute_result"
    }
   ],
   "source": [
    "\n",
    "\n",
    "tpot_config = {\n",
    "    'tpot.builtins.FeatureSetSelector': {\n",
    "        'subset_list': [path + '/c2.cp.kegg.v7.0.ens.red.csv'],\n",
    "        'sel_subset': range(186),\n",
    "        'res_cols': [['CMC', 'LIBD_szControl', 'sex', 'ethnicity']] # columns that should not be excluded by featuresetselector\n",
    "    },\n",
    "   'tpot.builtins.MetaEstimator': {\n",
    "        \n",
    "        'estimator': {\n",
    "           'sklearn.ensemble.GradientBoostingRegressor': {\n",
    "                'n_estimators': [100],\n",
    "                'loss': [\"ls\", \"lad\", \"huber\", \"quantile\"],\n",
    "                'learning_rate': [1e-3, 1e-2, 1e-1, 0.5, 1.],\n",
    "                'max_depth': range(1, 11),\n",
    "                'min_samples_split': range(2, 21),\n",
    "                'min_samples_leaf': range(1, 21),\n",
    "                'subsample': np.arange(0.05, 1.01, 0.05),\n",
    "                'max_features': np.arange(0.05, 1.01, 0.05),\n",
    "                'alpha': [0.75, 0.8, 0.85, 0.9, 0.95, 0.99]\n",
    "            },\n",
    "\n",
    "        },\n",
    "       'A': [['CMC', 'ethnicity']],\n",
    "       'C': [['LIBD_szControl', 'sex']]\n",
    "    }\n",
    "    \n",
    "}\n",
    "\n",
    "\n",
    "accuracy_ls = []\n",
    "n_gen = 5\n",
    "n_pop = 25\n",
    "seed = 42\n",
    "\n",
    "X_train, X_test, y_train, y_test = train_test_split(Xdata, \n",
    "                                                    Ydata, \n",
    "                                                    random_state=int(seed), \n",
    "                                                    train_size=0.75, \n",
    "                                                    test_size=0.25, \n",
    "                                                    stratify=Ydata)\n",
    "y_train.to_csv(path + '/ytrain_' + str(seed) + '.txt', sep='\\t', header = True)\n",
    "\n",
    "tpot = TPOTClassifier(generations=n_gen, population_size=n_pop, \n",
    "                        verbosity=3, cv=5,\n",
    "                      config_dict=tpot_config,\n",
    "                      template=\"FeatureSetSelector-Classifier\",\n",
    "                      scoring=\"balanced_accuracy\",random_state=42)\n",
    "tpot.fit(X_train, y_train)"
   ]
  },
  {
   "cell_type": "code",
   "execution_count": 5,
   "metadata": {},
   "outputs": [
    {
     "data": {
      "text/plain": [
       "Pipeline(memory=None,\n",
       "         steps=[('featuresetselector',\n",
       "                 FeatureSetSelector(res_cols=['CMC', 'LIBD_szControl', 'sex',\n",
       "                                              'ethnicity'],\n",
       "                                    sel_subset=169,\n",
       "                                    subset_list='TPOT_COV/c2.cp.kegg.v7.0.ens.red.csv')),\n",
       "                ('metaestimator',\n",
       "                 MetaEstimator(A=['CMC', 'ethnicity'],\n",
       "                               C=['LIBD_szControl', 'sex'],\n",
       "                               estimator=GradientBoostingRegressor(alpha=0.8,\n",
       "                                                                   criterion='friedman_mse',\n",
       "                                                                   init=None,...\n",
       "                                                                   loss='lad',\n",
       "                                                                   max_depth=5,\n",
       "                                                                   max_features=0.55,\n",
       "                                                                   max_leaf_nodes=None,\n",
       "                                                                   min_impurity_decrease=0.0,\n",
       "                                                                   min_impurity_split=None,\n",
       "                                                                   min_samples_leaf=6,\n",
       "                                                                   min_samples_split=20,\n",
       "                                                                   min_weight_fraction_leaf=0.0,\n",
       "                                                                   n_estimators=100,\n",
       "                                                                   n_iter_no_change=None,\n",
       "                                                                   presort='auto',\n",
       "                                                                   random_state=42,\n",
       "                                                                   subsample=0.7500000000000001,\n",
       "                                                                   tol=0.0001,\n",
       "                                                                   validation_fraction=0.1,\n",
       "                                                                   verbose=0,\n",
       "                                                                   warm_start=False)))],\n",
       "         verbose=False)"
      ]
     },
     "execution_count": 5,
     "metadata": {},
     "output_type": "execute_result"
    }
   ],
   "source": [
    "tpot.fitted_pipeline_"
   ]
  },
  {
   "cell_type": "code",
   "execution_count": 8,
   "metadata": {},
   "outputs": [
    {
     "name": "stdout",
     "output_type": "stream",
     "text": [
      "Name of selected features set KEGG_SYSTEMIC_LUPUS_ERYTHEMATOSUS\n"
     ]
    }
   ],
   "source": [
    "print(\"Name of selected features set\", tpot.fitted_pipeline_.steps[0][1].sel_subset_name)"
   ]
  }
 ],
 "metadata": {
  "kernelspec": {
   "display_name": "Python 3",
   "language": "python",
   "name": "python3"
  },
  "language_info": {
   "codemirror_mode": {
    "name": "ipython",
    "version": 3
   },
   "file_extension": ".py",
   "mimetype": "text/x-python",
   "name": "python",
   "nbconvert_exporter": "python",
   "pygments_lexer": "ipython3",
   "version": "3.6.9"
  }
 },
 "nbformat": 4,
 "nbformat_minor": 2
}
