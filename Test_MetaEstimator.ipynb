{
 "cells": [
  {
   "cell_type": "code",
   "execution_count": 5,
   "metadata": {},
   "outputs": [
    {
     "name": "stdout",
     "output_type": "stream",
     "text": [
      "SelectFromModel [<class 'tpot.operator_utils.SelectFromModel__ExtraTreesClassifier__criterion'>, <class 'tpot.operator_utils.SelectFromModel__ExtraTreesClassifier__max_features'>, <class 'tpot.operator_utils.SelectFromModel__ExtraTreesClassifier__n_estimators'>, <class 'tpot.operator_utils.SelectFromModel__GradientBoostingClassifier__learning_rate'>, <class 'tpot.operator_utils.SelectFromModel__GradientBoostingClassifier__max_depth'>, <class 'tpot.operator_utils.SelectFromModel__GradientBoostingClassifier__max_features'>, <class 'tpot.operator_utils.SelectFromModel__GradientBoostingClassifier__min_samples_leaf'>, <class 'tpot.operator_utils.SelectFromModel__GradientBoostingClassifier__min_samples_split'>, <class 'tpot.operator_utils.SelectFromModel__GradientBoostingClassifier__n_estimators'>, <class 'tpot.operator_utils.SelectFromModel__GradientBoostingClassifier__subsample'>, <class 'tpot.operator_utils.SelectFromModel__threshold'>]\n",
      "DecisionTreeClassifier [<class 'tpot.operator_utils.DecisionTreeClassifier__criterion'>, <class 'tpot.operator_utils.DecisionTreeClassifier__max_depth'>, <class 'tpot.operator_utils.DecisionTreeClassifier__min_samples_leaf'>, <class 'tpot.operator_utils.DecisionTreeClassifier__min_samples_split'>]\n"
     ]
    },
    {
     "data": {
      "application/vnd.jupyter.widget-view+json": {
       "model_id": "e0be135a9801443fab1f599c056eaf9f",
       "version_major": 2,
       "version_minor": 0
      },
      "text/plain": [
       "A Jupyter Widget"
      ]
     },
     "metadata": {},
     "output_type": "display_data"
    },
    {
     "name": "stdout",
     "output_type": "stream",
     "text": [
      "Generation 1 - Current best internal CV score: 0.8403022203515806\n",
      "Generation 2 - Current best internal CV score: 0.8403022203515806\n",
      "Generation 3 - Current best internal CV score: 0.8403022203515806\n",
      "Generation 4 - Current best internal CV score: 0.8404313580489905\n",
      "Generation 5 - Current best internal CV score: 0.8404313580489905\n",
      "\n",
      "Best pipeline: DecisionTreeClassifier(DecisionTreeClassifier(CombineDFs(input_matrix, input_matrix), criterion=gini, max_depth=8, min_samples_leaf=7, min_samples_split=8), criterion=entropy, max_depth=10, min_samples_leaf=1, min_samples_split=8)\n"
     ]
    },
    {
     "data": {
      "text/plain": [
       "TPOTClassifier(config_dict={'sklearn.feature_selection.SelectFromModel': {'estimator': {'sklearn.ensemble.ExtraTreesClassifier': {'criterion': ['gini',\n",
       "                                                                                                                                                'entropy'],\n",
       "                                                                                                                                  'max_features': array([0.05, 0.1 , 0.15, 0.2 , 0.25, 0.3 , 0.35, 0.4 , 0.45, 0.5 , 0.55,\n",
       "       0.6 , 0.65, 0.7 , 0.75, 0.8 , 0.85, 0.9 , 0.95, 1.  ]),\n",
       "                                                                                                                                  'n_estimators': [100]},\n",
       "                                                                                        'sklearn.ensemble.GradientBoostingClassifier': {'learning_...\n",
       "                                                                    'min_samples_split': range(2, 21)}},\n",
       "               crossover_rate=0.1, cv=5, disable_update_check=False,\n",
       "               early_stop=None, generations=5, max_eval_time_mins=5,\n",
       "               max_time_mins=None, memory=None, mutation_rate=0.9, n_jobs=1,\n",
       "               offspring_size=None, periodic_checkpoint_folder=None,\n",
       "               population_size=100, random_state=42, scoring=None,\n",
       "               subsample=1.0, template=None, use_dask=False, verbosity=2,\n",
       "               warm_start=False)"
      ]
     },
     "execution_count": 5,
     "metadata": {},
     "output_type": "execute_result"
    }
   ],
   "source": [
    "from tpot import TPOTClassifier\n",
    "from sklearn.datasets import load_digits\n",
    "from sklearn.model_selection import train_test_split\n",
    "import numpy as np\n",
    "digits = load_digits()\n",
    "X_train, X_test, y_train, y_test = train_test_split(digits.data, digits.target,\n",
    "                                                    train_size=0.75, test_size=0.25, random_state=42)\n",
    "\n",
    "tpot_config = {\n",
    "   'sklearn.feature_selection.SelectFromModel': {\n",
    "        'threshold': np.arange(0, 1.01, 0.05),\n",
    "        'estimator': {\n",
    "            'sklearn.ensemble.ExtraTreesClassifier': {\n",
    "                'n_estimators': [100],\n",
    "                'criterion': ['gini', 'entropy'],\n",
    "                'max_features': np.arange(0.05, 1.01, 0.05)\n",
    "            },\n",
    "            'sklearn.ensemble.GradientBoostingClassifier': {\n",
    "                'n_estimators': [100],\n",
    "                'learning_rate': [1e-3, 1e-2, 1e-1, 0.5, 1.],\n",
    "                'max_depth': range(1, 11),\n",
    "                'min_samples_split': range(2, 21),\n",
    "                'min_samples_leaf': range(1, 21),\n",
    "                'subsample': np.arange(0.05, 1.01, 0.05),\n",
    "                'max_features': np.arange(0.05, 1.01, 0.05)\n",
    "            }\n",
    "\n",
    "        }\n",
    "    },\n",
    "    'sklearn.tree.DecisionTreeClassifier': {\n",
    "        'criterion': [\"gini\", \"entropy\"],\n",
    "        'max_depth': range(1, 11),\n",
    "        'min_samples_split': range(2, 21),\n",
    "        'min_samples_leaf': range(1, 21)\n",
    "    }\n",
    "}\n",
    "\n",
    "\n",
    "tpot = TPOTClassifier(generations=5, population_size=100, verbosity=2,\n",
    "                      config_dict=tpot_config, random_state=42)\n",
    "tpot.fit(X_train, y_train)"
   ]
  },
  {
   "cell_type": "code",
   "execution_count": 2,
   "metadata": {},
   "outputs": [],
   "source": [
    "for k in tpot.evaluated_individuals_.keys():\n",
    "    if k.count(\"SelectFromModel\"):\n",
    "        print(k)\n"
   ]
  }
 ],
 "metadata": {
  "kernelspec": {
   "display_name": "Python 3",
   "language": "python",
   "name": "python3"
  },
  "language_info": {
   "codemirror_mode": {
    "name": "ipython",
    "version": 3
   },
   "file_extension": ".py",
   "mimetype": "text/x-python",
   "name": "python",
   "nbconvert_exporter": "python",
   "pygments_lexer": "ipython3",
   "version": "3.6.9"
  }
 },
 "nbformat": 4,
 "nbformat_minor": 2
}
